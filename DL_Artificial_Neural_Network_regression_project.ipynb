{
  "nbformat": 4,
  "nbformat_minor": 0,
  "metadata": {
    "colab": {
      "name": "Copy of Artificial Neural Network",
      "provenance": [],
      "collapsed_sections": [],
      "toc_visible": true
    },
    "kernelspec": {
      "name": "python3",
      "display_name": "Python 3"
    }
  },
  "cells": [
    {
      "cell_type": "markdown",
      "metadata": {
        "id": "3cbb7fRy-eyr",
        "colab_type": "text"
      },
      "source": [
        "# Artificial Neural Network"
      ]
    },
    {
      "cell_type": "markdown",
      "metadata": {
        "id": "8sNDnxE2-pwE",
        "colab_type": "text"
      },
      "source": [
        "### Importing the libraries"
      ]
    },
    {
      "cell_type": "code",
      "metadata": {
        "id": "lxChR1Rk-umf",
        "colab_type": "code",
        "colab": {}
      },
      "source": [
        "import numpy as np\n",
        "import pandas as pd\n",
        "import tensorflow as tf"
      ],
      "execution_count": 1,
      "outputs": []
    },
    {
      "cell_type": "markdown",
      "metadata": {
        "id": "AG3FQEch-yuA",
        "colab_type": "text"
      },
      "source": [
        "## Part 1 - Data Preprocessing"
      ]
    },
    {
      "cell_type": "markdown",
      "metadata": {
        "id": "-4zq8Mza_D9O",
        "colab_type": "text"
      },
      "source": [
        "### Importing the dataset"
      ]
    },
    {
      "cell_type": "code",
      "metadata": {
        "id": "B9CV13Co_HHM",
        "colab_type": "code",
        "colab": {}
      },
      "source": [
        "dataset = pd.read_excel('Folds5x2_pp.xlsx')\n",
        "X = dataset.iloc[:, -1].values\n",
        "y = dataset.iloc[:, -1].values"
      ],
      "execution_count": 2,
      "outputs": []
    },
    {
      "cell_type": "markdown",
      "metadata": {
        "id": "VC6omXel_Up0",
        "colab_type": "text"
      },
      "source": [
        "### Splitting the dataset into the Training set and Test set"
      ]
    },
    {
      "cell_type": "code",
      "metadata": {
        "id": "L5edeb2r_agx",
        "colab_type": "code",
        "colab": {}
      },
      "source": [
        "from sklearn.model_selection import train_test_split\n",
        "X_train, X_test, y_train, y_test = train_test_split(X, y, test_size = 0.2, random_state = 0)"
      ],
      "execution_count": 3,
      "outputs": []
    },
    {
      "cell_type": "markdown",
      "metadata": {
        "id": "_mSLlAT9_eyI",
        "colab_type": "text"
      },
      "source": [
        "## Part 2 - Building the ANN"
      ]
    },
    {
      "cell_type": "markdown",
      "metadata": {
        "id": "CsBULd_f_wLY",
        "colab_type": "text"
      },
      "source": [
        "### Initializing the ANN"
      ]
    },
    {
      "cell_type": "code",
      "metadata": {
        "id": "J6Hd97Ls__Nz",
        "colab_type": "code",
        "colab": {}
      },
      "source": [
        "ann = tf.keras.models.Sequential()"
      ],
      "execution_count": 4,
      "outputs": []
    },
    {
      "cell_type": "markdown",
      "metadata": {
        "id": "iitAFJS_ABUn",
        "colab_type": "text"
      },
      "source": [
        "### Adding the input layer and the first hidden layer"
      ]
    },
    {
      "cell_type": "code",
      "metadata": {
        "id": "ksO_Vv40AHix",
        "colab_type": "code",
        "colab": {}
      },
      "source": [
        "ann.add(tf.keras.layers.Dense(units=6, activation='relu'))"
      ],
      "execution_count": 5,
      "outputs": []
    },
    {
      "cell_type": "markdown",
      "metadata": {
        "id": "-lb4kK_wAKbs",
        "colab_type": "text"
      },
      "source": [
        "### Adding the second hidden layer"
      ]
    },
    {
      "cell_type": "code",
      "metadata": {
        "id": "c2357OqEAQOQ",
        "colab_type": "code",
        "colab": {}
      },
      "source": [
        "ann.add(tf.keras.layers.Dense(units=6, activation='relu'))"
      ],
      "execution_count": 6,
      "outputs": []
    },
    {
      "cell_type": "markdown",
      "metadata": {
        "id": "jwMOmKb3AdBY",
        "colab_type": "text"
      },
      "source": [
        "### Adding the output layer"
      ]
    },
    {
      "cell_type": "code",
      "metadata": {
        "id": "YFATpzsUAkLL",
        "colab_type": "code",
        "colab": {}
      },
      "source": [
        "ann.add(tf.keras.layers.Dense(units=1, activation='sigmoid'))"
      ],
      "execution_count": 8,
      "outputs": []
    },
    {
      "cell_type": "markdown",
      "metadata": {
        "id": "fq7e4fF6A1yy",
        "colab_type": "text"
      },
      "source": [
        "## Part 3 - Training the ANN"
      ]
    },
    {
      "cell_type": "markdown",
      "metadata": {
        "id": "qDeylAs2An25",
        "colab_type": "text"
      },
      "source": [
        "### Compiling the ANN"
      ]
    },
    {
      "cell_type": "code",
      "metadata": {
        "id": "pesgbWlCAtB4",
        "colab_type": "code",
        "colab": {}
      },
      "source": [
        "ann.compile(optimizer = 'adam', loss = 'mean_squared_error')"
      ],
      "execution_count": 9,
      "outputs": []
    },
    {
      "cell_type": "markdown",
      "metadata": {
        "id": "YjVuiybYOo7r",
        "colab_type": "text"
      },
      "source": [
        "### Training the ANN model on the Training set"
      ]
    },
    {
      "cell_type": "code",
      "metadata": {
        "id": "c_vV-tiiA5zn",
        "colab_type": "code",
        "colab": {
          "base_uri": "https://localhost:8080/",
          "height": 1000
        },
        "outputId": "ccea5a2b-2f0f-4b3b-fd08-fa697c82fbb7"
      },
      "source": [
        "ann.fit(X_train, y_train, batch_size = 32, epochs = 100)"
      ],
      "execution_count": 10,
      "outputs": [
        {
          "output_type": "stream",
          "text": [
            "Epoch 1/100\n",
            "240/240 [==============================] - 0s 1ms/step - loss: 206295.9531\n",
            "Epoch 2/100\n",
            "240/240 [==============================] - 0s 957us/step - loss: 205774.7500\n",
            "Epoch 3/100\n",
            "240/240 [==============================] - 0s 1ms/step - loss: 205774.6094\n",
            "Epoch 4/100\n",
            "240/240 [==============================] - 0s 1ms/step - loss: 205774.7188\n",
            "Epoch 5/100\n",
            "240/240 [==============================] - 0s 1ms/step - loss: 205774.7500\n",
            "Epoch 6/100\n",
            "240/240 [==============================] - 0s 1ms/step - loss: 205774.5938\n",
            "Epoch 7/100\n",
            "240/240 [==============================] - 0s 1ms/step - loss: 205774.7656\n",
            "Epoch 8/100\n",
            "240/240 [==============================] - 0s 904us/step - loss: 205774.6562\n",
            "Epoch 9/100\n",
            "240/240 [==============================] - 0s 944us/step - loss: 205774.7188\n",
            "Epoch 10/100\n",
            "240/240 [==============================] - 0s 986us/step - loss: 205774.6562\n",
            "Epoch 11/100\n",
            "240/240 [==============================] - 0s 953us/step - loss: 205774.6562\n",
            "Epoch 12/100\n",
            "240/240 [==============================] - 0s 915us/step - loss: 205774.7031\n",
            "Epoch 13/100\n",
            "240/240 [==============================] - 0s 974us/step - loss: 205774.6406\n",
            "Epoch 14/100\n",
            "240/240 [==============================] - 0s 916us/step - loss: 205774.6562\n",
            "Epoch 15/100\n",
            "240/240 [==============================] - 0s 896us/step - loss: 205774.6875\n",
            "Epoch 16/100\n",
            "240/240 [==============================] - 0s 902us/step - loss: 205774.6094\n",
            "Epoch 17/100\n",
            "240/240 [==============================] - 0s 910us/step - loss: 205774.7031\n",
            "Epoch 18/100\n",
            "240/240 [==============================] - 0s 938us/step - loss: 205774.6562\n",
            "Epoch 19/100\n",
            "240/240 [==============================] - 0s 974us/step - loss: 205774.5781\n",
            "Epoch 20/100\n",
            "240/240 [==============================] - 0s 897us/step - loss: 205774.5469\n",
            "Epoch 21/100\n",
            "240/240 [==============================] - 0s 947us/step - loss: 205774.6875\n",
            "Epoch 22/100\n",
            "240/240 [==============================] - 0s 921us/step - loss: 205774.6875\n",
            "Epoch 23/100\n",
            "240/240 [==============================] - 0s 933us/step - loss: 205774.6094\n",
            "Epoch 24/100\n",
            "240/240 [==============================] - 0s 931us/step - loss: 205774.5312\n",
            "Epoch 25/100\n",
            "240/240 [==============================] - 0s 967us/step - loss: 205774.7031\n",
            "Epoch 26/100\n",
            "240/240 [==============================] - 0s 976us/step - loss: 205774.6719\n",
            "Epoch 27/100\n",
            "240/240 [==============================] - 0s 993us/step - loss: 205774.6562\n",
            "Epoch 28/100\n",
            "240/240 [==============================] - 0s 936us/step - loss: 205774.5625\n",
            "Epoch 29/100\n",
            "240/240 [==============================] - 0s 919us/step - loss: 205774.6719\n",
            "Epoch 30/100\n",
            "240/240 [==============================] - 0s 971us/step - loss: 205774.5938\n",
            "Epoch 31/100\n",
            "240/240 [==============================] - 0s 937us/step - loss: 205774.6875\n",
            "Epoch 32/100\n",
            "240/240 [==============================] - 0s 936us/step - loss: 205774.6875\n",
            "Epoch 33/100\n",
            "240/240 [==============================] - 0s 925us/step - loss: 205774.6094\n",
            "Epoch 34/100\n",
            "240/240 [==============================] - 0s 935us/step - loss: 205774.6719\n",
            "Epoch 35/100\n",
            "240/240 [==============================] - 0s 1ms/step - loss: 205774.5938\n",
            "Epoch 36/100\n",
            "240/240 [==============================] - 0s 904us/step - loss: 205774.7344\n",
            "Epoch 37/100\n",
            "240/240 [==============================] - 0s 973us/step - loss: 205774.7969\n",
            "Epoch 38/100\n",
            "240/240 [==============================] - 0s 919us/step - loss: 205774.5781\n",
            "Epoch 39/100\n",
            "240/240 [==============================] - 0s 988us/step - loss: 205774.5938\n",
            "Epoch 40/100\n",
            "240/240 [==============================] - 0s 1ms/step - loss: 205774.7031\n",
            "Epoch 41/100\n",
            "240/240 [==============================] - 0s 994us/step - loss: 205774.7031\n",
            "Epoch 42/100\n",
            "240/240 [==============================] - 0s 968us/step - loss: 205774.6094\n",
            "Epoch 43/100\n",
            "240/240 [==============================] - 0s 971us/step - loss: 205774.6094\n",
            "Epoch 44/100\n",
            "240/240 [==============================] - 0s 972us/step - loss: 205774.6719\n",
            "Epoch 45/100\n",
            "240/240 [==============================] - 0s 946us/step - loss: 205774.6719\n",
            "Epoch 46/100\n",
            "240/240 [==============================] - 0s 905us/step - loss: 205774.6562\n",
            "Epoch 47/100\n",
            "240/240 [==============================] - 0s 964us/step - loss: 205774.7031\n",
            "Epoch 48/100\n",
            "240/240 [==============================] - 0s 1ms/step - loss: 205774.6562\n",
            "Epoch 49/100\n",
            "240/240 [==============================] - 0s 998us/step - loss: 205774.6875\n",
            "Epoch 50/100\n",
            "240/240 [==============================] - 0s 995us/step - loss: 205774.6094\n",
            "Epoch 51/100\n",
            "240/240 [==============================] - 0s 981us/step - loss: 205774.6719\n",
            "Epoch 52/100\n",
            "240/240 [==============================] - 0s 939us/step - loss: 205774.6406\n",
            "Epoch 53/100\n",
            "240/240 [==============================] - 0s 951us/step - loss: 205774.6562\n",
            "Epoch 54/100\n",
            "240/240 [==============================] - 0s 956us/step - loss: 205774.6875\n",
            "Epoch 55/100\n",
            "240/240 [==============================] - 0s 1ms/step - loss: 205774.6406\n",
            "Epoch 56/100\n",
            "240/240 [==============================] - 0s 1ms/step - loss: 205774.6094\n",
            "Epoch 57/100\n",
            "240/240 [==============================] - 0s 933us/step - loss: 205774.6094\n",
            "Epoch 58/100\n",
            "240/240 [==============================] - 0s 983us/step - loss: 205774.6562\n",
            "Epoch 59/100\n",
            "240/240 [==============================] - 0s 939us/step - loss: 205774.6406\n",
            "Epoch 60/100\n",
            "240/240 [==============================] - 0s 952us/step - loss: 205774.5781\n",
            "Epoch 61/100\n",
            "240/240 [==============================] - 0s 956us/step - loss: 205774.6875\n",
            "Epoch 62/100\n",
            "240/240 [==============================] - 0s 932us/step - loss: 205774.6719\n",
            "Epoch 63/100\n",
            "240/240 [==============================] - 0s 952us/step - loss: 205774.6562\n",
            "Epoch 64/100\n",
            "240/240 [==============================] - 0s 934us/step - loss: 205774.7344\n",
            "Epoch 65/100\n",
            "240/240 [==============================] - 0s 978us/step - loss: 205774.6562\n",
            "Epoch 66/100\n",
            "240/240 [==============================] - 0s 1ms/step - loss: 205774.6094\n",
            "Epoch 67/100\n",
            "240/240 [==============================] - 0s 1ms/step - loss: 205774.6562\n",
            "Epoch 68/100\n",
            "240/240 [==============================] - 0s 919us/step - loss: 205774.6094\n",
            "Epoch 69/100\n",
            "240/240 [==============================] - 0s 997us/step - loss: 205774.7031\n",
            "Epoch 70/100\n",
            "240/240 [==============================] - 0s 927us/step - loss: 205774.5469\n",
            "Epoch 71/100\n",
            "240/240 [==============================] - 0s 1ms/step - loss: 205774.6562\n",
            "Epoch 72/100\n",
            "240/240 [==============================] - 0s 1ms/step - loss: 205774.6406\n",
            "Epoch 73/100\n",
            "240/240 [==============================] - 0s 943us/step - loss: 205774.6562\n",
            "Epoch 74/100\n",
            "240/240 [==============================] - 0s 973us/step - loss: 205774.7031\n",
            "Epoch 75/100\n",
            "240/240 [==============================] - 0s 1ms/step - loss: 205774.6875\n",
            "Epoch 76/100\n",
            "240/240 [==============================] - 0s 964us/step - loss: 205774.6875\n",
            "Epoch 77/100\n",
            "240/240 [==============================] - 0s 914us/step - loss: 205774.6875\n",
            "Epoch 78/100\n",
            "240/240 [==============================] - 0s 1ms/step - loss: 205774.7344\n",
            "Epoch 79/100\n",
            "240/240 [==============================] - 0s 959us/step - loss: 205774.7188\n",
            "Epoch 80/100\n",
            "240/240 [==============================] - 0s 1ms/step - loss: 205774.6406\n",
            "Epoch 81/100\n",
            "240/240 [==============================] - 0s 956us/step - loss: 205774.6719\n",
            "Epoch 82/100\n",
            "240/240 [==============================] - 0s 904us/step - loss: 205774.7031\n",
            "Epoch 83/100\n",
            "240/240 [==============================] - 0s 906us/step - loss: 205774.6875\n",
            "Epoch 84/100\n",
            "240/240 [==============================] - 0s 988us/step - loss: 205774.7344\n",
            "Epoch 85/100\n",
            "240/240 [==============================] - 0s 909us/step - loss: 205774.6719\n",
            "Epoch 86/100\n",
            "240/240 [==============================] - 0s 868us/step - loss: 205774.5625\n",
            "Epoch 87/100\n",
            "240/240 [==============================] - 0s 963us/step - loss: 205774.6875\n",
            "Epoch 88/100\n",
            "240/240 [==============================] - 0s 947us/step - loss: 205774.7188\n",
            "Epoch 89/100\n",
            "240/240 [==============================] - 0s 1ms/step - loss: 205774.6406\n",
            "Epoch 90/100\n",
            "240/240 [==============================] - 0s 901us/step - loss: 205774.6406\n",
            "Epoch 91/100\n",
            "240/240 [==============================] - 0s 1ms/step - loss: 205774.6562\n",
            "Epoch 92/100\n",
            "240/240 [==============================] - 0s 973us/step - loss: 205774.7188\n",
            "Epoch 93/100\n",
            "240/240 [==============================] - 0s 901us/step - loss: 205774.5938\n",
            "Epoch 94/100\n",
            "240/240 [==============================] - 0s 1ms/step - loss: 205774.6875\n",
            "Epoch 95/100\n",
            "240/240 [==============================] - 0s 993us/step - loss: 205774.7188\n",
            "Epoch 96/100\n",
            "240/240 [==============================] - 0s 909us/step - loss: 205774.6406\n",
            "Epoch 97/100\n",
            "240/240 [==============================] - 0s 943us/step - loss: 205774.7188\n",
            "Epoch 98/100\n",
            "240/240 [==============================] - 0s 994us/step - loss: 205774.5781\n",
            "Epoch 99/100\n",
            "240/240 [==============================] - 0s 957us/step - loss: 205774.6406\n",
            "Epoch 100/100\n",
            "240/240 [==============================] - 0s 925us/step - loss: 205774.6719\n"
          ],
          "name": "stdout"
        },
        {
          "output_type": "execute_result",
          "data": {
            "text/plain": [
              "<tensorflow.python.keras.callbacks.History at 0x7f109a3e8f28>"
            ]
          },
          "metadata": {
            "tags": []
          },
          "execution_count": 10
        }
      ]
    },
    {
      "cell_type": "markdown",
      "metadata": {
        "id": "0H0zKKNEBLD5",
        "colab_type": "text"
      },
      "source": [
        "### Predicting the results of the Test set"
      ]
    },
    {
      "cell_type": "code",
      "metadata": {
        "id": "IA0yApEmBG1X",
        "colab_type": "code",
        "colab": {
          "base_uri": "https://localhost:8080/",
          "height": 136
        },
        "outputId": "64c11254-5886-4910-b963-5a7db78b749b"
      },
      "source": [
        "y_pred = ann.predict(X_test)\n",
        "np.set_printoptions(precision=2)\n",
        "print(np.concatenate((y_pred.reshape(len(y_pred),1), y_test.reshape(len(y_test),1)),1))"
      ],
      "execution_count": 11,
      "outputs": [
        {
          "output_type": "stream",
          "text": [
            "[[  1.   431.23]\n",
            " [  1.   460.01]\n",
            " [  1.   461.14]\n",
            " ...\n",
            " [  1.   473.26]\n",
            " [  1.   438.  ]\n",
            " [  1.   463.28]]\n"
          ],
          "name": "stdout"
        }
      ]
    }
  ]
}